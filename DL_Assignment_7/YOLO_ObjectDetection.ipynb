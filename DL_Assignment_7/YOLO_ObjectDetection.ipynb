{
  "cells": [
    {
      "cell_type": "code",
      "execution_count": null,
      "metadata": {
        "colab": {
          "base_uri": "https://localhost:8080/"
        },
        "id": "TUDFffN1j6TH",
        "outputId": "34f721bf-67e4-48bc-ed72-6198b6dc37c5"
      },
      "outputs": [],
      "source": [
        "!pip install ultralytics"
      ]
    },
    {
      "cell_type": "code",
      "execution_count": null,
      "metadata": {
        "colab": {
          "base_uri": "https://localhost:8080/"
        },
        "id": "FSMTXceUsvB1",
        "outputId": "398f462b-7a52-4f46-8ea5-4810c5a2c7f6"
      },
      "outputs": [],
      "source": [
        "import cv2\n",
        "from ultralytics import YOLO\n",
        "\n",
        "# Load YOLOv8 model\n",
        "model = YOLO(\"yolov8m.pt\")\n",
        "\n",
        "# Open the webcam\n",
        "cap = cv2.VideoCapture(0)  # 0 means default webcam\n",
        "\n",
        "if not cap.isOpened():\n",
        "    print(\"Error: Could not open webcam.\")\n",
        "    exit()\n",
        "\n",
        "while True:\n",
        "    # Read a frame from the webcam\n",
        "    ret, frame = cap.read()\n",
        "    if not ret:\n",
        "        break\n",
        "\n",
        "    # Detect objects in the frame\n",
        "    results = model.track(frame, stream=True)\n",
        "\n",
        "    for result in results:\n",
        "        class_names = result.names\n",
        "        for box in result.boxes:\n",
        "            if box.conf[0] > 0.4:\n",
        "                x1, y1, x2, y2 = map(int, box.xyxy[0])\n",
        "                cls = int(box.cls[0])\n",
        "                class_name = class_names[cls]\n",
        "\n",
        "                # Draw rectangle around object\n",
        "                cv2.rectangle(frame, (x1, y1), (x2, y2), (0, 255, 0), 2)\n",
        "                cv2.putText(frame, f\"{class_name} {box.conf[0]:.2f}\",\n",
        "                            (x1, y1 - 10), cv2.FONT_HERSHEY_SIMPLEX,\n",
        "                            0.9, (0, 255, 0), 2)\n",
        "\n",
        "    # Show the frame\n",
        "    cv2.imshow(\"YOLOv8 Object Detection\", frame)\n",
        "\n",
        "    # Exit loop when 'q' is pressed\n",
        "    if cv2.waitKey(1) & 0xFF == ord('q'):\n",
        "        break\n",
        "\n",
        "# Release the webcam and close the window\n",
        "cap.release()\n",
        "cv2.destroyAllWindows()"
      ]
    }
  ],
  "metadata": {
    "colab": {
      "provenance": []
    },
    "kernelspec": {
      "display_name": "Python 3",
      "name": "python3"
    },
    "language_info": {
      "codemirror_mode": {
        "name": "ipython",
        "version": 3
      },
      "file_extension": ".py",
      "mimetype": "text/x-python",
      "name": "python",
      "nbconvert_exporter": "python",
      "pygments_lexer": "ipython3",
      "version": "3.11.0"
    }
  },
  "nbformat": 4,
  "nbformat_minor": 0
}
